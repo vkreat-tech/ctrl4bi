{
 "cells": [
  {
   "cell_type": "markdown",
   "metadata": {
    "id": "9TMFWyRksLsB"
   },
   "source": [
    "# **Ctrl4BI**\n",
    "\n",
    "A helper package for Business Intelligence solutions"
   ]
  },
  {
   "cell_type": "markdown",
   "metadata": {
    "id": "xX5djzDxs9LZ"
   },
   "source": [
    "**Highlights**\n",
    "\n",
    "- PII scrubbing\n",
    "- ETL testing - Column Level Check\n",
    "\n",
    "\n",
    "\n",
    "\n",
    "\n",
    "\n",
    "\n"
   ]
  },
  {
   "cell_type": "markdown",
   "metadata": {
    "id": "JJHV68yyup90"
   },
   "source": [
    "# **Install & Import**"
   ]
  },
  {
   "cell_type": "code",
   "execution_count": 1,
   "metadata": {
    "colab": {
     "base_uri": "https://localhost:8080/",
     "height": 85
    },
    "id": "ytOOXvTR6oHc",
    "outputId": "aaf505d0-51fc-4a24-e9da-8b4ef6dc9126"
   },
   "outputs": [
    {
     "name": "stdout",
     "output_type": "stream",
     "text": [
      "Collecting ctrl4bi\n",
      "  Downloading https://files.pythonhosted.org/packages/02/9f/cd65ecb2df221d116fd41bf880c70b9f3d8c43af6b424746904d839f252e/ctrl4bi-1.0.0-py3-none-any.whl\n",
      "Installing collected packages: ctrl4bi\n",
      "Successfully installed ctrl4bi-1.0.0\n"
     ]
    }
   ],
   "source": [
    "pip install ctrl4bi --upgrade"
   ]
  },
  {
   "cell_type": "code",
   "execution_count": 2,
   "metadata": {
    "id": "OhKL1Vda6wID"
   },
   "outputs": [],
   "source": [
    "from ctrl4bi import cleanser\n",
    "from ctrl4bi import etl_testing"
   ]
  },
  {
   "cell_type": "markdown",
   "metadata": {
    "id": "G-qtyPJ1u6Ql"
   },
   "source": [
    "# **Usage**"
   ]
  },
  {
   "cell_type": "markdown",
   "metadata": {
    "id": "gMLSu6k6IbN7"
   },
   "source": [
    "For documentation, please read [HELP.md](https://github.com/vkreat-tech/ctrl4bi/blob/master/HELP.md)"
   ]
  },
  {
   "cell_type": "code",
   "execution_count": 3,
   "metadata": {
    "colab": {
     "base_uri": "https://localhost:8080/",
     "height": 136
    },
    "id": "-YhCgOUBLk6B",
    "outputId": "0f094956-bc0e-4c55-b10c-1dd37110803d"
   },
   "outputs": [
    {
     "name": "stdout",
     "output_type": "stream",
     "text": [
      "Help on function scrub_pii in module ctrl4bi.cleanser:\n",
      "\n",
      "scrub_pii(string)\n",
      "    Usage: [arg1]:[String with PII]\n",
      "    Description: Removes PII content from string. Be careful while performing this as this would remove even anything that looks like PII\n",
      "    Returns: [String without PII]\n",
      "\n"
     ]
    }
   ],
   "source": [
    "help(cleanser.scrub_pii)"
   ]
  }
 ],
 "metadata": {
  "colab": {
   "collapsed_sections": [
    "JJHV68yyup90",
    "G-qtyPJ1u6Ql"
   ],
   "name": "Ctrl4BI_README.ipynb",
   "provenance": []
  },
  "kernelspec": {
   "display_name": "Python 3",
   "language": "python",
   "name": "python3"
  },
  "language_info": {
   "codemirror_mode": {
    "name": "ipython",
    "version": 3
   },
   "file_extension": ".py",
   "mimetype": "text/x-python",
   "name": "python",
   "nbconvert_exporter": "python",
   "pygments_lexer": "ipython3",
   "version": "3.8.3"
  }
 },
 "nbformat": 4,
 "nbformat_minor": 1
}
