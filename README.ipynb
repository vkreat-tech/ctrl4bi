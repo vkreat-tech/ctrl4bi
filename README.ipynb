{
  "nbformat": 4,
  "nbformat_minor": 0,
  "metadata": {
    "colab": {
      "name": "Ctrl4BI_README.ipynb",
      "provenance": [],
      "collapsed_sections": [
        "JJHV68yyup90",
        "wwqaiihUH3F6",
        "Egbo0iiuQrQC"
      ]
    },
    "kernelspec": {
      "name": "python3",
      "display_name": "Python 3"
    }
  },
  "cells": [
    {
      "cell_type": "markdown",
      "metadata": {
        "id": "9TMFWyRksLsB"
      },
      "source": [
        "# **Ctrl4BI**\n",
        "\n",
        "A helper package for Business Intelligence solutions"
      ]
    },
    {
      "cell_type": "markdown",
      "metadata": {
        "id": "xX5djzDxs9LZ"
      },
      "source": [
        "**Highlights**\n",
        "\n",
        "- PII scrubbing\n",
        "- ETL testing - Column Level Check\n",
        "\n",
        "\n",
        "\n",
        "\n",
        "\n",
        "\n",
        "\n"
      ]
    },
    {
      "cell_type": "markdown",
      "metadata": {
        "id": "gMLSu6k6IbN7"
      },
      "source": [
        "For documentation, please read [HELP.md](https://github.com/vkreat-tech/ctrl4bi/blob/master/HELP.md)"
      ]
    },
    {
      "cell_type": "markdown",
      "metadata": {
        "id": "JJHV68yyup90"
      },
      "source": [
        "# **Install & Import**"
      ]
    },
    {
      "cell_type": "code",
      "metadata": {
        "id": "ytOOXvTR6oHc",
        "outputId": "1fe22e49-e0ca-4c42-c6b3-12eccf9f5731",
        "colab": {
          "base_uri": "https://localhost:8080/",
          "height": 34
        }
      },
      "source": [
        "pip install ctrl4bi --upgrade"
      ],
      "execution_count": 1,
      "outputs": [
        {
          "output_type": "stream",
          "text": [
            "Requirement already up-to-date: ctrl4bi in /usr/local/lib/python3.6/dist-packages (1.0.1)\n"
          ],
          "name": "stdout"
        }
      ]
    },
    {
      "cell_type": "code",
      "metadata": {
        "id": "N8zBHqm1SJvI"
      },
      "source": [
        "from ctrl4bi import cleanser\n",
        "from ctrl4bi import etl_testing\n",
        "from ctrl4bi import datasets"
      ],
      "execution_count": 2,
      "outputs": []
    },
    {
      "cell_type": "markdown",
      "metadata": {
        "id": "wwqaiihUH3F6"
      },
      "source": [
        "# **PII Scrubbing**"
      ]
    },
    {
      "cell_type": "markdown",
      "metadata": {
        "id": "4YzhrsKQSQjj"
      },
      "source": [
        "Used help() to understand usage"
      ]
    },
    {
      "cell_type": "code",
      "metadata": {
        "id": "-YhCgOUBLk6B",
        "outputId": "01269983-c9f2-4da4-b344-925b2e8b2e7b",
        "colab": {
          "base_uri": "https://localhost:8080/",
          "height": 136
        }
      },
      "source": [
        "help(cleanser.scrub_pii)"
      ],
      "execution_count": 3,
      "outputs": [
        {
          "output_type": "stream",
          "text": [
            "Help on function scrub_pii in module ctrl4bi.cleanser:\n",
            "\n",
            "scrub_pii(string)\n",
            "    Usage: [arg1]:[String with PII]\n",
            "    Description: Removes PII content from string. Be careful while performing this as this would remove even anything that looks like PII\n",
            "    Returns: [String without PII]\n",
            "\n"
          ],
          "name": "stdout"
        }
      ]
    },
    {
      "cell_type": "code",
      "metadata": {
        "id": "Nfxp6r1LH3GG",
        "outputId": "0fbfe0d3-b6d7-4b99-b404-b4d689077e44",
        "colab": {
          "base_uri": "https://localhost:8080/",
          "height": 34
        }
      },
      "source": [
        "str1='My DL is A1234567'\n",
        "print(cleanser.scrub_pii(str1))"
      ],
      "execution_count": 4,
      "outputs": [
        {
          "output_type": "stream",
          "text": [
            "My DL is  --- PII SCRUBBED ----\n"
          ],
          "name": "stdout"
        }
      ]
    },
    {
      "cell_type": "markdown",
      "metadata": {
        "id": "Egbo0iiuQrQC"
      },
      "source": [
        "\n",
        "# **Column Level Check**"
      ]
    },
    {
      "cell_type": "markdown",
      "metadata": {
        "id": "AF8pxmmJRWR9"
      },
      "source": [
        "Importing inbuilt samplle datasets"
      ]
    },
    {
      "cell_type": "code",
      "metadata": {
        "id": "rRU4YSq5RJci"
      },
      "source": [
        "src_df,tgt_df=datasets.clc_samples()"
      ],
      "execution_count": 5,
      "outputs": []
    },
    {
      "cell_type": "markdown",
      "metadata": {
        "id": "J2-BL6fMSY6E"
      },
      "source": [
        "Used help() to understand usage"
      ]
    },
    {
      "cell_type": "code",
      "metadata": {
        "id": "IvcUxmlLRtEl",
        "outputId": "d425e7db-1b0a-49bf-cbea-bce216797c8c",
        "colab": {
          "base_uri": "https://localhost:8080/",
          "height": 136
        }
      },
      "source": [
        "help(etl_testing.column_level_check)"
      ],
      "execution_count": 6,
      "outputs": [
        {
          "output_type": "stream",
          "text": [
            "Help on function column_level_check in module ctrl4bi.etl_testing:\n",
            "\n",
            "column_level_check(source_df, target_df, primary_keys)\n",
            "    Usage: [arg1]:[Pandas DataFrame - source], [arg2]:[Pandas DataFrame - target], [arg3]:[Primary keys (separated by comma)]\n",
            "    Description: Performs column level testing between two DataFrames.\n",
            "    Returns: [Mismatch Count], [Test Log (list)], [Pandas dataframe - mismatch (if any)]\n",
            "\n"
          ],
          "name": "stdout"
        }
      ]
    },
    {
      "cell_type": "code",
      "metadata": {
        "id": "TlqTAvXhQrQL",
        "outputId": "c3f4b352-232a-49e0-c978-49d201a58dc6",
        "colab": {
          "base_uri": "https://localhost:8080/",
          "height": 187
        }
      },
      "source": [
        "mismatch_count,logs,mismatch_df =etl_testing.column_level_check(src_df,tgt_df,'Identifier')\n",
        "print('\\n'.join(logs))"
      ],
      "execution_count": 7,
      "outputs": [
        {
          "output_type": "stream",
          "text": [
            "START TIME: 2020-10-15 08:05:03\n",
            "2020-10-15 08:05:03.553471: DIFFERENTIATING SOURCE AND TARGET COLUMNS\n",
            "2020-10-15 08:05:03.554258: CHECKING IF THE GROUP BY MAKES THE RECORD LEVEL SAME AS ACTUAL\n",
            "2020-10-15 08:05:03.561099: JOINING THE TABLES\n",
            "2020-10-15 08:05:03.564873: FINDING THE TARGET COLUMN AND SOURCE COLUMN TO BE COMPARED\n",
            "Matching columns 1: Username_tgt = Username_src , 2: First name_tgt = First name_src , 3: Last name_tgt = Last name_src , \n",
            "2020-10-15 08:05:03.565035: COMPARISION STARTED\n",
            "2020-10-15 08:05:03.581842: TEST RESULT:\n",
            "1 records unmatched\n",
            "Column level check Failed\n"
          ],
          "name": "stdout"
        }
      ]
    },
    {
      "cell_type": "code",
      "metadata": {
        "id": "rf34j8KLSkuO",
        "outputId": "0c5cb4af-7a05-4c30-aa6e-eceebceb729e",
        "colab": {
          "base_uri": "https://localhost:8080/",
          "height": 68
        }
      },
      "source": [
        "print(mismatch_df)"
      ],
      "execution_count": 8,
      "outputs": [
        {
          "output_type": "stream",
          "text": [
            "           Username_src Username_tgt\n",
            "identifier                          \n",
            "5079            smith79       smith7\n"
          ],
          "name": "stdout"
        }
      ]
    }
  ]
}